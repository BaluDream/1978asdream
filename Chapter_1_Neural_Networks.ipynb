{
  "nbformat": 4,
  "nbformat_minor": 0,
  "metadata": {
    "colab": {
      "provenance": [],
      "authorship_tag": "ABX9TyNZMxRkqHqFQRMVSYd67sBB",
      "include_colab_link": true
    },
    "kernelspec": {
      "name": "python3",
      "display_name": "Python 3"
    },
    "language_info": {
      "name": "python"
    }
  },
  "cells": [
    {
      "cell_type": "markdown",
      "metadata": {
        "id": "view-in-github",
        "colab_type": "text"
      },
      "source": [
        "<a href=\"https://colab.research.google.com/github/BaluDream/1978asdream/blob/main/Chapter_1_Neural_Networks.ipynb\" target=\"_parent\"><img src=\"https://colab.research.google.com/assets/colab-badge.svg\" alt=\"Open In Colab\"/></a>"
      ]
    },
    {
      "cell_type": "code",
      "execution_count": null,
      "metadata": {
        "id": "Bgg7t-cBOu4q"
      },
      "outputs": [],
      "source": [
        "class Network(object):\n",
        "\n",
        "    def __init__(self, sizes):\n",
        "        self.num_layers = len(sizes)\n",
        "        self.sizes = sizes\n",
        "        self.biases = [np.random.randn(y, 1) for y in sizes[1:]]\n",
        "        self.weights = [np.random.randn(y, x) \n",
        "                        for x, y in zip(sizes[:-1], sizes[1:])]"
      ]
    },
    {
      "cell_type": "code",
      "source": [
        "def sigmoid(z):\n",
        "    return 1.0/(1.0+np.exp(-z))"
      ],
      "metadata": {
        "id": "dTuDZVcoO1UB"
      },
      "execution_count": null,
      "outputs": []
    },
    {
      "cell_type": "code",
      "source": [
        "def feedforward(self, a):\n",
        "    \"\"\"Return the output of the network if \"a\" is input.\"\"\"\n",
        "    for b, w in zip(self.biases, self.weights):\n",
        "      a = sigmoid(np.dot(w, a)+b)\n",
        "    return a\n"
      ],
      "metadata": {
        "id": "de5SXEc5O4O_"
      },
      "execution_count": null,
      "outputs": []
    },
    {
      "cell_type": "code",
      "source": [
        "def SGD(self, training_data, epochs, mini_batch_size, eta,\n",
        "            test_data=None):\n",
        "        \"\"\"Train the neural network using mini-batch stochastic\n",
        "        gradient descent.  The \"training_data\" is a list of tuples\n",
        "        \"(x, y)\" representing the training inputs and the desired\n",
        "        outputs.  The other non-optional parameters are\n",
        "        self-explanatory.  If \"test_data\" is provided then the\n",
        "        network will be evaluated against the test data after each\n",
        "        epoch, and partial progress printed out.  This is useful for\n",
        "        tracking progress, but slows things down substantially.\"\"\"\n",
        "        if test_data: n_test = len(test_data)\n",
        "        n = len(training_data)\n",
        "        for j in xrange(epochs):\n",
        "            random.shuffle(training_data)\n",
        "            mini_batches = [\n",
        "                training_data[k:k+mini_batch_size]\n",
        "                for k in xrange(0, n, mini_batch_size)]\n",
        "            for mini_batch in mini_batches:\n",
        "                self.update_mini_batch(mini_batch, eta)\n",
        "            if test_data:\n",
        "                print(\"Epoch {} : {} / {}\".format(j,self.evaluate(test_data),n_test))\n",
        "            else:\n",
        "                print(\"Epoch {} complete\".format(j))"
      ],
      "metadata": {
        "id": "gbl6O-u_O4Wn"
      },
      "execution_count": null,
      "outputs": []
    },
    {
      "cell_type": "code",
      "source": [
        "def update_mini_batch(self, mini_batch, eta):\n",
        "    \"\"\"Update the network's weights and biases by applying\n",
        "    gradient descent using backpropagation to a single mini batch.\n",
        "    The \"mini_batch\" is a list of tuples \"(x, y)\", and \"eta\"\n",
        "    is the learning rate.\"\"\"\n",
        "    nabla_b = [np.zeros(b.shape) for b in self.biases]\n",
        "    nabla_w = [np.zeros(w.shape) for w in self.weights]\n",
        "    for x, y in mini_batch:\n",
        "        delta_nabla_b, delta_nabla_w = self.backprop(x, y)\n",
        "        nabla_b = [nb+dnb for nb, dnb in zip(nabla_b, delta_nabla_b)]\n",
        "        nabla_w = [nw+dnw for nw, dnw in zip(nabla_w, delta_nabla_w)]\n",
        "    self.weights = [w-(eta/len(mini_batch))*nw \n",
        "                    for w, nw in zip(self.weights, nabla_w)]\n",
        "    self.biases = [b-(eta/len(mini_batch))*nb \n",
        "                    for b, nb in zip(self.biases, nabla_b)]"
      ],
      "metadata": {
        "id": "tT7YUDAZO4Zk"
      },
      "execution_count": null,
      "outputs": []
    },
    {
      "cell_type": "code",
      "source": [
        "delta_nabla_b, delta_nabla_w = self.backprop(x, y)"
      ],
      "metadata": {
        "id": "w7RS99JrO4cU"
      },
      "execution_count": null,
      "outputs": []
    },
    {
      "cell_type": "code",
      "source": [
        "\"\"\"\n",
        "network.py\n",
        "~~~~~~~~~~\n",
        "\n",
        "A module to implement the stochastic gradient descent learning\n",
        "algorithm for a feedforward neural network.  Gradients are calculated\n",
        "using backpropagation.  Note that I have focused on making the code\n",
        "simple, easily readable, and easily modifiable.  It is not optimized,\n",
        "and omits many desirable features.\n",
        "\"\"\"\n",
        "\n",
        "#### Libraries\n",
        "# Standard library\n",
        "import random\n",
        "\n",
        "# Third-party libraries\n",
        "import numpy as np\n",
        "\n",
        "class Network(object):\n",
        "\n",
        "    def __init__(self, sizes):\n",
        "        \"\"\"The list ``sizes`` contains the number of neurons in the\n",
        "        respective layers of the network.  For example, if the list\n",
        "        was [2, 3, 1] then it would be a three-layer network, with the\n",
        "        first layer containing 2 neurons, the second layer 3 neurons,\n",
        "        and the third layer 1 neuron.  The biases and weights for the\n",
        "        network are initialized randomly, using a Gaussian\n",
        "        distribution with mean 0, and variance 1.  Note that the first\n",
        "        layer is assumed to be an input layer, and by convention we\n",
        "        won't set any biases for those neurons, since biases are only\n",
        "        ever used in computing the outputs from later layers.\"\"\"\n",
        "        self.num_layers = len(sizes)\n",
        "        self.sizes = sizes\n",
        "        self.biases = [np.random.randn(y, 1) for y in sizes[1:]]\n",
        "        self.weights = [np.random.randn(y, x)\n",
        "                        for x, y in zip(sizes[:-1], sizes[1:])]\n",
        "\n",
        "    def feedforward(self, a):\n",
        "        \"\"\"Return the output of the network if ``a`` is input.\"\"\"\n",
        "        for b, w in zip(self.biases, self.weights):\n",
        "            a = sigmoid(np.dot(w, a)+b)\n",
        "        return a\n",
        "\n",
        "    def SGD(self, training_data, epochs, mini_batch_size, eta,\n",
        "            test_data=None):\n",
        "        \"\"\"Train the neural network using mini-batch stochastic\n",
        "        gradient descent.  The ``training_data`` is a list of tuples\n",
        "        ``(x, y)`` representing the training inputs and the desired\n",
        "        outputs.  The other non-optional parameters are\n",
        "        self-explanatory.  If ``test_data`` is provided then the\n",
        "        network will be evaluated against the test data after each\n",
        "        epoch, and partial progress printed out.  This is useful for\n",
        "        tracking progress, but slows things down substantially.\"\"\"\n",
        "        if test_data: n_test = len(test_data)\n",
        "        n = len(training_data)\n",
        "        for j in xrange(epochs):\n",
        "            random.shuffle(training_data)\n",
        "            mini_batches = [\n",
        "                training_data[k:k+mini_batch_size]\n",
        "                for k in xrange(0, n, mini_batch_size)]\n",
        "            for mini_batch in mini_batches:\n",
        "                self.update_mini_batch(mini_batch, eta)\n",
        "            if test_data:\n",
        "                print(\"Epoch {} : {} / {}\".format(j,self.evaluate(test_data),n_test))\n",
        "            else:\n",
        "                print(\"Epoch {} complete\".format(j))\n",
        "\n",
        "    def update_mini_batch(self, mini_batch, eta):\n",
        "        \"\"\"Update the network's weights and biases by applying\n",
        "        gradient descent using backpropagation to a single mini batch.\n",
        "        The ``mini_batch`` is a list of tuples ``(x, y)``, and ``eta``\n",
        "        is the learning rate.\"\"\"\n",
        "        nabla_b = [np.zeros(b.shape) for b in self.biases]\n",
        "        nabla_w = [np.zeros(w.shape) for w in self.weights]\n",
        "        for x, y in mini_batch:\n",
        "            delta_nabla_b, delta_nabla_w = self.backprop(x, y)\n",
        "            nabla_b = [nb+dnb for nb, dnb in zip(nabla_b, delta_nabla_b)]\n",
        "            nabla_w = [nw+dnw for nw, dnw in zip(nabla_w, delta_nabla_w)]\n",
        "        self.weights = [w-(eta/len(mini_batch))*nw\n",
        "                        for w, nw in zip(self.weights, nabla_w)]\n",
        "        self.biases = [b-(eta/len(mini_batch))*nb\n",
        "                       for b, nb in zip(self.biases, nabla_b)]\n",
        "\n",
        "    def backprop(self, x, y):\n",
        "        \"\"\"Return a tuple ``(nabla_b, nabla_w)`` representing the\n",
        "        gradient for the cost function C_x.  ``nabla_b`` and\n",
        "        ``nabla_w`` are layer-by-layer lists of numpy arrays, similar\n",
        "        to ``self.biases`` and ``self.weights``.\"\"\"\n",
        "        nabla_b = [np.zeros(b.shape) for b in self.biases]\n",
        "        nabla_w = [np.zeros(w.shape) for w in self.weights]\n",
        "        # feedforward\n",
        "        activation = x\n",
        "        activations = [x] # list to store all the activations, layer by layer\n",
        "        zs = [] # list to store all the z vectors, layer by layer\n",
        "        for b, w in zip(self.biases, self.weights):\n",
        "            z = np.dot(w, activation)+b\n",
        "            zs.append(z)\n",
        "            activation = sigmoid(z)\n",
        "            activations.append(activation)\n",
        "        # backward pass\n",
        "        delta = self.cost_derivative(activations[-1], y) * \\\n",
        "            sigmoid_prime(zs[-1])\n",
        "        nabla_b[-1] = delta\n",
        "        nabla_w[-1] = np.dot(delta, activations[-2].transpose())\n",
        "        # Note that the variable l in the loop below is used a little\n",
        "        # differently to the notation in Chapter 2 of the book.  Here,\n",
        "        # l = 1 means the last layer of neurons, l = 2 is the\n",
        "        # second-last layer, and so on.  It's a renumbering of the\n",
        "        # scheme in the book, used here to take advantage of the fact\n",
        "        # that Python can use negative indices in lists.\n",
        "        for l in xrange(2, self.num_layers):\n",
        "            z = zs[-l]\n",
        "            sp = sigmoid_prime(z)\n",
        "            delta = np.dot(self.weights[-l+1].transpose(), delta) * sp\n",
        "            nabla_b[-l] = delta\n",
        "            nabla_w[-l] = np.dot(delta, activations[-l-1].transpose())\n",
        "        return (nabla_b, nabla_w)\n",
        "\n",
        "    def evaluate(self, test_data):\n",
        "        \"\"\"Return the number of test inputs for which the neural\n",
        "        network outputs the correct result. Note that the neural\n",
        "        network's output is assumed to be the index of whichever\n",
        "        neuron in the final layer has the highest activation.\"\"\"\n",
        "        test_results = [(np.argmax(self.feedforward(x)), y)\n",
        "                        for (x, y) in test_data]\n",
        "        return sum(int(x == y) for (x, y) in test_results)\n",
        "\n",
        "    def cost_derivative(self, output_activations, y):\n",
        "        \"\"\"Return the vector of partial derivatives \\partial C_x /\n",
        "        \\partial a for the output activations.\"\"\"\n",
        "        return (output_activations-y)\n",
        "\n",
        "#### Miscellaneous functions\n",
        "def sigmoid(z):\n",
        "    \"\"\"The sigmoid function.\"\"\"\n",
        "    return 1.0/(1.0+np.exp(-z))\n",
        "\n",
        "def sigmoid_prime(z):\n",
        "    \"\"\"Derivative of the sigmoid function.\"\"\"\n",
        "    return sigmoid(z)*(1-sigmoid(z))"
      ],
      "metadata": {
        "id": "UoJJg7PTPdi6"
      },
      "execution_count": null,
      "outputs": []
    },
    {
      "cell_type": "code",
      "source": [],
      "metadata": {
        "id": "MHq3GolkPdll"
      },
      "execution_count": null,
      "outputs": []
    },
    {
      "cell_type": "code",
      "source": [
        "!pip install cPickle"
      ],
      "metadata": {
        "colab": {
          "base_uri": "https://localhost:8080/"
        },
        "id": "hefX5QM2Tu3C",
        "outputId": "5b195066-b205-4211-d513-38ff8194e8e7"
      },
      "execution_count": null,
      "outputs": [
        {
          "output_type": "stream",
          "name": "stdout",
          "text": [
            "Looking in indexes: https://pypi.org/simple, https://us-python.pkg.dev/colab-wheels/public/simple/\n",
            "\u001b[31mERROR: Could not find a version that satisfies the requirement cPickle (from versions: none)\u001b[0m\n",
            "\u001b[31mERROR: No matching distribution found for cPickle\u001b[0m\n"
          ]
        }
      ]
    },
    {
      "cell_type": "code",
      "source": [
        "\"\"\"\n",
        "mnist_loader\n",
        "~~~~~~~~~~~~\n",
        "\n",
        "A library to load the MNIST image data.  For details of the data\n",
        "structures that are returned, see the doc strings for ``load_data``\n",
        "and ``load_data_wrapper``.  In practice, ``load_data_wrapper`` is the\n",
        "function usually called by our neural network code.\n",
        "\"\"\"\n",
        "\n",
        "#### Libraries\n",
        "# Standard library\n",
        "import pickle\n",
        "import gzip\n",
        "\n",
        "# Third-party libraries\n",
        "import numpy as np\n",
        "\n",
        "def load_data():\n",
        "    \"\"\"Return the MNIST data as a tuple containing the training data,\n",
        "    the validation data, and the test data.\n",
        "\n",
        "    The ``training_data`` is returned as a tuple with two entries.\n",
        "    The first entry contains the actual training images.  This is a\n",
        "    numpy ndarray with 50,000 entries.  Each entry is, in turn, a\n",
        "    numpy ndarray with 784 values, representing the 28 * 28 = 784\n",
        "    pixels in a single MNIST image.\n",
        "\n",
        "    The second entry in the ``training_data`` tuple is a numpy ndarray\n",
        "    containing 50,000 entries.  Those entries are just the digit\n",
        "    values (0...9) for the corresponding images contained in the first\n",
        "    entry of the tuple.\n",
        "\n",
        "    The ``validation_data`` and ``test_data`` are similar, except\n",
        "    each contains only 10,000 images.\n",
        "\n",
        "    This is a nice data format, but for use in neural networks it's\n",
        "    helpful to modify the format of the ``training_data`` a little.\n",
        "    That's done in the wrapper function ``load_data_wrapper()``, see\n",
        "    below.\n",
        "    \"\"\"\n",
        "    f = gzip.open('../data/mnist.pkl.gz', 'rb')\n",
        "    training_data, validation_data, test_data = cPickle.load(f)\n",
        "    f.close()\n",
        "    return (training_data, validation_data, test_data)\n",
        "\n",
        "def load_data_wrapper():\n",
        "    \"\"\"Return a tuple containing ``(training_data, validation_data,\n",
        "    test_data)``. Based on ``load_data``, but the format is more\n",
        "    convenient for use in our implementation of neural networks.\n",
        "\n",
        "    In particular, ``training_data`` is a list containing 50,000\n",
        "    2-tuples ``(x, y)``.  ``x`` is a 784-dimensional numpy.ndarray\n",
        "    containing the input image.  ``y`` is a 10-dimensional\n",
        "    numpy.ndarray representing the unit vector corresponding to the\n",
        "    correct digit for ``x``.\n",
        "\n",
        "    ``validation_data`` and ``test_data`` are lists containing 10,000\n",
        "    2-tuples ``(x, y)``.  In each case, ``x`` is a 784-dimensional\n",
        "    numpy.ndarry containing the input image, and ``y`` is the\n",
        "    corresponding classification, i.e., the digit values (integers)\n",
        "    corresponding to ``x``.\n",
        "\n",
        "    Obviously, this means we're using slightly different formats for\n",
        "    the training data and the validation / test data.  These formats\n",
        "    turn out to be the most convenient for use in our neural network\n",
        "    code.\"\"\"\n",
        "    tr_d, va_d, te_d = load_data()\n",
        "    training_inputs = [np.reshape(x, (784, 1)) for x in tr_d[0]]\n",
        "    training_results = [vectorized_result(y) for y in tr_d[1]]\n",
        "    training_data = zip(training_inputs, training_results)\n",
        "    validation_inputs = [np.reshape(x, (784, 1)) for x in va_d[0]]\n",
        "    validation_data = zip(validation_inputs, va_d[1])\n",
        "    test_inputs = [np.reshape(x, (784, 1)) for x in te_d[0]]\n",
        "    test_data = zip(test_inputs, te_d[1])\n",
        "    return (training_data, validation_data, test_data)\n",
        "\n",
        "def vectorized_result(j):\n",
        "    \"\"\"Return a 10-dimensional unit vector with a 1.0 in the jth\n",
        "    position and zeroes elsewhere.  This is used to convert a digit\n",
        "    (0...9) into a corresponding desired output from the neural\n",
        "    network.\"\"\"\n",
        "    e = np.zeros((10, 1))\n",
        "    e[j] = 1.0\n",
        "    return e"
      ],
      "metadata": {
        "id": "nsAwhZzsTu5w"
      },
      "execution_count": null,
      "outputs": []
    },
    {
      "cell_type": "code",
      "source": [],
      "metadata": {
        "id": "dvXDMSUgTu8q"
      },
      "execution_count": null,
      "outputs": []
    },
    {
      "cell_type": "code",
      "source": [
        "import mnist_loader"
      ],
      "metadata": {
        "id": "LPfqXLSETu_a"
      },
      "execution_count": 1,
      "outputs": []
    },
    {
      "cell_type": "code",
      "source": [
        "!git clone https://github.com/mnielsen/neural-networks-and-deep-learning.git"
      ],
      "metadata": {
        "id": "nG6SNRfjJX1z"
      },
      "execution_count": null,
      "outputs": []
    },
    {
      "cell_type": "markdown",
      "source": [
        "For Python shell\n",
        "\n",
        ">>> import mnist_loader\n",
        ">>> training_data, validation_data, test_data = \\\n",
        "... mnist_loader.load_data_wrapper()"
      ],
      "metadata": {
        "id": "jUeiQdStPo1G"
      }
    },
    {
      "cell_type": "code",
      "source": [
        "ls"
      ],
      "metadata": {
        "id": "7UfMIu8MJyCE"
      },
      "execution_count": null,
      "outputs": []
    },
    {
      "cell_type": "code",
      "source": [
        "training_data, validation_data, test_data = mnist_loader.load_data_wrapper()"
      ],
      "metadata": {
        "id": "lVw-BHudPdoH"
      },
      "execution_count": 14,
      "outputs": []
    },
    {
      "cell_type": "markdown",
      "source": [
        "Again for Python Shell\n",
        "\n",
        "\n",
        ">>> import network\n",
        ">>> net = network.Network([784, 30, 10])"
      ],
      "metadata": {
        "id": "S65UOZ4gQuoZ"
      }
    },
    {
      "cell_type": "code",
      "source": [],
      "metadata": {
        "id": "b3lYIEAVWTc8"
      },
      "execution_count": null,
      "outputs": []
    },
    {
      "cell_type": "code",
      "source": [
        "import network"
      ],
      "metadata": {
        "id": "tbfi3ERXPdqe"
      },
      "execution_count": 15,
      "outputs": []
    },
    {
      "cell_type": "code",
      "source": [
        "net = network.Network([784, 30, 10])"
      ],
      "metadata": {
        "id": "oaYaT5e2WUO8"
      },
      "execution_count": 16,
      "outputs": []
    },
    {
      "cell_type": "markdown",
      "source": [
        "Again for Python Shell\n",
        "\n",
        ">>> net.SGD(training_data, 30, 10, 3.0, test_data=test_data)"
      ],
      "metadata": {
        "id": "jO4nR3koQ6qK"
      }
    },
    {
      "cell_type": "code",
      "source": [
        "net.SGD(training_data, 30, 10, 3.0, test_data=test_data)"
      ],
      "metadata": {
        "id": "DXlo_NLPPds7",
        "colab": {
          "base_uri": "https://localhost:8080/"
        },
        "outputId": "9e217547-a363-4496-84a9-81ce5e572d4d"
      },
      "execution_count": 17,
      "outputs": [
        {
          "output_type": "stream",
          "name": "stdout",
          "text": [
            "Epoch 0 : 9148 / 10000\n",
            "Epoch 1 : 9243 / 10000\n",
            "Epoch 2 : 9299 / 10000\n",
            "Epoch 3 : 9377 / 10000\n",
            "Epoch 4 : 9391 / 10000\n",
            "Epoch 5 : 9348 / 10000\n",
            "Epoch 6 : 9437 / 10000\n",
            "Epoch 7 : 9415 / 10000\n",
            "Epoch 8 : 9427 / 10000\n",
            "Epoch 9 : 9409 / 10000\n",
            "Epoch 10 : 9437 / 10000\n",
            "Epoch 11 : 9446 / 10000\n",
            "Epoch 12 : 9450 / 10000\n",
            "Epoch 13 : 9477 / 10000\n",
            "Epoch 14 : 9445 / 10000\n",
            "Epoch 15 : 9472 / 10000\n",
            "Epoch 16 : 9461 / 10000\n",
            "Epoch 17 : 9494 / 10000\n",
            "Epoch 18 : 9466 / 10000\n",
            "Epoch 19 : 9506 / 10000\n",
            "Epoch 20 : 9467 / 10000\n",
            "Epoch 21 : 9505 / 10000\n",
            "Epoch 22 : 9479 / 10000\n",
            "Epoch 23 : 9444 / 10000\n",
            "Epoch 24 : 9484 / 10000\n",
            "Epoch 25 : 9481 / 10000\n",
            "Epoch 26 : 9471 / 10000\n",
            "Epoch 27 : 9484 / 10000\n",
            "Epoch 28 : 9501 / 10000\n",
            "Epoch 29 : 9487 / 10000\n"
          ]
        }
      ]
    },
    {
      "cell_type": "markdown",
      "source": [
        "Again for Python Shell\n",
        "\n",
        ">>> net = network.Network([784, 100, 10])\n",
        ">>> net.SGD(training_data, 30, 10, 3.0, test_data=test_data)"
      ],
      "metadata": {
        "id": "AvOxWkNwREng"
      }
    },
    {
      "cell_type": "code",
      "source": [
        "net = network.Network([784, 100, 10])"
      ],
      "metadata": {
        "id": "2pbtkwAZQ-nH"
      },
      "execution_count": 18,
      "outputs": []
    },
    {
      "cell_type": "code",
      "source": [
        "net.SGD(training_data, 30, 10, 3.0, test_data=test_data)"
      ],
      "metadata": {
        "id": "uSjue5nNQ-p4",
        "colab": {
          "base_uri": "https://localhost:8080/"
        },
        "outputId": "6ed00e1b-4c09-42ad-bb81-ae23e441f29e"
      },
      "execution_count": 19,
      "outputs": [
        {
          "output_type": "stream",
          "name": "stdout",
          "text": [
            "Epoch 0 complete\n",
            "Epoch 1 complete\n",
            "Epoch 2 complete\n",
            "Epoch 3 complete\n",
            "Epoch 4 complete\n",
            "Epoch 5 complete\n",
            "Epoch 6 complete\n",
            "Epoch 7 complete\n",
            "Epoch 8 complete\n",
            "Epoch 9 complete\n",
            "Epoch 10 complete\n",
            "Epoch 11 complete\n",
            "Epoch 12 complete\n",
            "Epoch 13 complete\n",
            "Epoch 14 complete\n",
            "Epoch 15 complete\n",
            "Epoch 16 complete\n",
            "Epoch 17 complete\n",
            "Epoch 18 complete\n",
            "Epoch 19 complete\n",
            "Epoch 20 complete\n",
            "Epoch 21 complete\n",
            "Epoch 22 complete\n",
            "Epoch 23 complete\n",
            "Epoch 24 complete\n",
            "Epoch 25 complete\n",
            "Epoch 26 complete\n",
            "Epoch 27 complete\n",
            "Epoch 28 complete\n",
            "Epoch 29 complete\n"
          ]
        }
      ]
    },
    {
      "cell_type": "markdown",
      "source": [
        "Again for Python Shell\n",
        "\n",
        ">>> net = network.Network([784, 100, 10])\n",
        ">>> net.SGD(training_data, 30, 10, 0.001, test_data=test_data)"
      ],
      "metadata": {
        "id": "IFmFWQyUROef"
      }
    },
    {
      "cell_type": "code",
      "source": [
        "nets = network.Network([784, 100, 10])"
      ],
      "metadata": {
        "id": "gv6GXxe5RJK_"
      },
      "execution_count": 22,
      "outputs": []
    },
    {
      "cell_type": "code",
      "source": [
        "nets.SGD(training_data, 30, 10, 0.001, test_data=test_data)"
      ],
      "metadata": {
        "id": "BeCvH_VXRJOA",
        "colab": {
          "base_uri": "https://localhost:8080/"
        },
        "outputId": "e2dc1856-4bde-4ab6-e9c0-26e83fcca53c"
      },
      "execution_count": 23,
      "outputs": [
        {
          "output_type": "stream",
          "name": "stdout",
          "text": [
            "Epoch 0 complete\n",
            "Epoch 1 complete\n",
            "Epoch 2 complete\n",
            "Epoch 3 complete\n",
            "Epoch 4 complete\n",
            "Epoch 5 complete\n",
            "Epoch 6 complete\n",
            "Epoch 7 complete\n",
            "Epoch 8 complete\n",
            "Epoch 9 complete\n",
            "Epoch 10 complete\n",
            "Epoch 11 complete\n",
            "Epoch 12 complete\n",
            "Epoch 13 complete\n",
            "Epoch 14 complete\n",
            "Epoch 15 complete\n",
            "Epoch 16 complete\n",
            "Epoch 17 complete\n",
            "Epoch 18 complete\n",
            "Epoch 19 complete\n",
            "Epoch 20 complete\n",
            "Epoch 21 complete\n",
            "Epoch 22 complete\n",
            "Epoch 23 complete\n",
            "Epoch 24 complete\n",
            "Epoch 25 complete\n",
            "Epoch 26 complete\n",
            "Epoch 27 complete\n",
            "Epoch 28 complete\n",
            "Epoch 29 complete\n"
          ]
        }
      ]
    },
    {
      "cell_type": "markdown",
      "source": [
        "Again for Python Shell\n",
        "\n",
        ">>> net = network.Network([784, 30, 10])\n",
        ">>> net.SGD(training_data, 30, 10, 100.0, test_data=test_data)"
      ],
      "metadata": {
        "id": "4bxwR-vXRSwP"
      }
    },
    {
      "cell_type": "code",
      "source": [
        "net = network.Network([784, 30, 10])"
      ],
      "metadata": {
        "id": "8lSb27HwRJQz"
      },
      "execution_count": 24,
      "outputs": []
    },
    {
      "cell_type": "code",
      "source": [
        "net.SGD(training_data, 30, 10, 100.0, test_data=test_data)"
      ],
      "metadata": {
        "id": "dCyUWg4ERbXi",
        "colab": {
          "base_uri": "https://localhost:8080/"
        },
        "outputId": "ad97c282-95aa-43aa-e9e7-bcc4c8868b32"
      },
      "execution_count": 25,
      "outputs": [
        {
          "output_type": "stream",
          "name": "stdout",
          "text": [
            "Epoch 0 complete\n",
            "Epoch 1 complete\n",
            "Epoch 2 complete\n",
            "Epoch 3 complete\n",
            "Epoch 4 complete\n",
            "Epoch 5 complete\n",
            "Epoch 6 complete\n",
            "Epoch 7 complete\n",
            "Epoch 8 complete\n",
            "Epoch 9 complete\n",
            "Epoch 10 complete\n",
            "Epoch 11 complete\n",
            "Epoch 12 complete\n",
            "Epoch 13 complete\n",
            "Epoch 14 complete\n",
            "Epoch 15 complete\n",
            "Epoch 16 complete\n",
            "Epoch 17 complete\n",
            "Epoch 18 complete\n",
            "Epoch 19 complete\n",
            "Epoch 20 complete\n",
            "Epoch 21 complete\n",
            "Epoch 22 complete\n",
            "Epoch 23 complete\n",
            "Epoch 24 complete\n",
            "Epoch 25 complete\n",
            "Epoch 26 complete\n",
            "Epoch 27 complete\n",
            "Epoch 28 complete\n",
            "Epoch 29 complete\n"
          ]
        }
      ]
    },
    {
      "cell_type": "code",
      "source": [],
      "metadata": {
        "id": "p2RH6RG0Rbab"
      },
      "execution_count": null,
      "outputs": []
    },
    {
      "cell_type": "code",
      "source": [],
      "metadata": {
        "id": "U9QlqdY0Rhgw"
      },
      "execution_count": null,
      "outputs": []
    },
    {
      "cell_type": "code",
      "source": [
        "ls"
      ],
      "metadata": {
        "colab": {
          "base_uri": "https://localhost:8080/"
        },
        "id": "EYFZSwReRhjf",
        "outputId": "8c284c4b-68ee-465f-924b-0670038779b8"
      },
      "execution_count": null,
      "outputs": [
        {
          "output_type": "stream",
          "name": "stdout",
          "text": [
            "mnist_loader.py  network.py  \u001b[0m\u001b[01;34m__pycache__\u001b[0m/  \u001b[01;34msample_data\u001b[0m/\n"
          ]
        }
      ]
    },
    {
      "cell_type": "markdown",
      "source": [
        "My experiments to run the code."
      ],
      "metadata": {
        "id": "_geYICYoZYya"
      }
    },
    {
      "cell_type": "code",
      "source": [],
      "metadata": {
        "id": "DdL3P7uYGusW"
      },
      "execution_count": null,
      "outputs": []
    },
    {
      "cell_type": "code",
      "source": [],
      "metadata": {
        "id": "pCU21KzQGup3"
      },
      "execution_count": null,
      "outputs": []
    },
    {
      "cell_type": "code",
      "source": [],
      "metadata": {
        "id": "eAcVgw-KGunI"
      },
      "execution_count": null,
      "outputs": []
    },
    {
      "cell_type": "code",
      "source": [],
      "metadata": {
        "id": "2uFY17XUGuR0"
      },
      "execution_count": null,
      "outputs": []
    },
    {
      "cell_type": "markdown",
      "source": [
        "Exercises 01:\n",
        "\n",
        "Sigmoid neurons simulating perceptrons, part I\n",
        "Suppose we take all the weights and biases in a network of perceptrons, and multiply them by a positive constant, c>0\n",
        ". Show that the behaviour of the network doesn't change.\n",
        "\n",
        "Sigmoid neurons simulating perceptrons, part II\n",
        "\n",
        "Suppose we have the same setup as the last problem - a network of perceptrons. Suppose also that the overall input to the network of perceptrons has been chosen. We won't need the actual input value, we just need the input to have been fixed. Suppose the weights and biases are such that w⋅x+b≠0 for the input x to any particular perceptron in the network. Now replace all the perceptrons in the network by sigmoid neurons, and multiply the weights and biases by a positive constant c>0. Show that in the limit as c→∞ the behaviour of this network of sigmoid neurons is exactly the same as the network of perceptrons. How can this fail when w⋅x+b=0 for one of the perceptrons? \n",
        "\n",
        "\n"
      ],
      "metadata": {
        "id": "oiYoSBLVGvRy"
      }
    },
    {
      "cell_type": "code",
      "source": [],
      "metadata": {
        "id": "qDBoxOWdG_CV"
      },
      "execution_count": null,
      "outputs": []
    },
    {
      "cell_type": "code",
      "source": [],
      "metadata": {
        "id": "LBj1sHMyG_gw"
      },
      "execution_count": null,
      "outputs": []
    },
    {
      "cell_type": "code",
      "source": [],
      "metadata": {
        "id": "fTkBIH4gG_jf"
      },
      "execution_count": null,
      "outputs": []
    },
    {
      "cell_type": "markdown",
      "source": [
        "Exercises 02:\n",
        "\n",
        "There is a way of determining the bitwise representation of a digit by adding an extra layer to the three-layer network above. The extra layer converts the output from the previous layer into a binary representation, as illustrated in the figure below. Find a set of weights and biases for the new output layer. Assume that the first 3 layers of neurons are such that the correct output in the third layer (i.e., the old output layer) has activation at least 0.99, and incorrect outputs have activation less than 0.01. "
      ],
      "metadata": {
        "id": "XMsNWTSbHABe"
      }
    },
    {
      "cell_type": "code",
      "source": [],
      "metadata": {
        "id": "rbihkLycHJJJ"
      },
      "execution_count": null,
      "outputs": []
    },
    {
      "cell_type": "code",
      "source": [],
      "metadata": {
        "id": "TBeGG7jBHJMK"
      },
      "execution_count": null,
      "outputs": []
    },
    {
      "cell_type": "code",
      "source": [],
      "metadata": {
        "id": "OFVSNLZyHJO5"
      },
      "execution_count": null,
      "outputs": []
    },
    {
      "cell_type": "markdown",
      "source": [
        "Exercises 03:\n",
        "\n",
        "Prove the assertion of the last paragraph. Hint: If you're not already familiar with the Cauchy-Schwarz inequality, you may find it helpful to familiarize yourself with it.\n",
        "\n",
        "I explained gradient descent when C\n",
        "is a function of two variables, and when it's a function of more than two variables. What happens when C is a function of just one variable? Can you provide a geometric interpretation of what gradient descent is doing in the one-dimensional case? \n",
        "\n"
      ],
      "metadata": {
        "id": "L9AfL9zGHKCf"
      }
    },
    {
      "cell_type": "code",
      "source": [],
      "metadata": {
        "id": "RJ5zEzUQHaeG"
      },
      "execution_count": null,
      "outputs": []
    },
    {
      "cell_type": "code",
      "source": [],
      "metadata": {
        "id": "SyTWKxELHahD"
      },
      "execution_count": null,
      "outputs": []
    },
    {
      "cell_type": "code",
      "source": [],
      "metadata": {
        "id": "y0-dOSQDHakq"
      },
      "execution_count": null,
      "outputs": []
    },
    {
      "cell_type": "code",
      "source": [],
      "metadata": {
        "id": "6Rd2OVMeHan6"
      },
      "execution_count": null,
      "outputs": []
    },
    {
      "cell_type": "markdown",
      "source": [
        "Exercises 04:\n",
        "\n",
        "\n",
        "An extreme version of gradient descent is to use a mini-batch size of just 1. That is, given a training input, x, we update our weights and biases according to the rules wk→w′k=wk−η∂Cx/∂wk and bl→b′l=bl−η∂Cx/∂bl. Then we choose another training input, and update the weights and biases again. And so on, repeatedly. This procedure is known as online, on-line, or incremental learning. In online learning, a neural network learns from just one training input at a time (just as human beings do). Name one advantage and one disadvantage of online learning, compared to stochastic gradient descent with a mini-batch size of, say, 20. \n",
        "\n",
        "\n"
      ],
      "metadata": {
        "id": "Y2VUy1P3HbMF"
      }
    },
    {
      "cell_type": "code",
      "source": [],
      "metadata": {
        "id": "8M5Gb5ycHevb"
      },
      "execution_count": null,
      "outputs": []
    },
    {
      "cell_type": "code",
      "source": [],
      "metadata": {
        "id": "w6gsSF-GHeyM"
      },
      "execution_count": null,
      "outputs": []
    },
    {
      "cell_type": "markdown",
      "source": [
        "Exercises 04:\n",
        "\n",
        "\n",
        "\n",
        "Write out Equation (22) in component form, and verify that it gives the same result as the rule (4) for computing the output of a sigmoid neuron. \n",
        "\n"
      ],
      "metadata": {
        "id": "AuyKuzIoHjcb"
      }
    },
    {
      "cell_type": "code",
      "source": [],
      "metadata": {
        "id": "gOm9ReGEHo_n"
      },
      "execution_count": null,
      "outputs": []
    },
    {
      "cell_type": "code",
      "source": [],
      "metadata": {
        "id": "7Ais3EFwHpCa"
      },
      "execution_count": null,
      "outputs": []
    },
    {
      "cell_type": "code",
      "source": [],
      "metadata": {
        "id": "dXX2G5QJHpFA"
      },
      "execution_count": null,
      "outputs": []
    },
    {
      "cell_type": "markdown",
      "source": [
        "Exercises 05:\n",
        "\n",
        "Try creating a network with just two layers - an input and an output layer, no hidden layer - with 784 and 10 neurons, respectively. Train the network using stochastic gradient descent. What classification accuracy can you achieve? \n",
        "\n",
        "\n"
      ],
      "metadata": {
        "id": "uHT9wo90HsH9"
      }
    },
    {
      "cell_type": "code",
      "source": [],
      "metadata": {
        "id": "8lS8ybj9Hvvl"
      },
      "execution_count": null,
      "outputs": []
    },
    {
      "cell_type": "code",
      "source": [],
      "metadata": {
        "id": "u3Wl9MEQHvyc"
      },
      "execution_count": null,
      "outputs": []
    }
  ]
}