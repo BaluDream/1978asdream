{
  "nbformat": 4,
  "nbformat_minor": 0,
  "metadata": {
    "colab": {
      "provenance": [],
      "authorship_tag": "ABX9TyPn7S+r1T9KL7vLVyZl7Qt0",
      "include_colab_link": true
    },
    "kernelspec": {
      "name": "python3",
      "display_name": "Python 3"
    },
    "language_info": {
      "name": "python"
    }
  },
  "cells": [
    {
      "cell_type": "markdown",
      "metadata": {
        "id": "view-in-github",
        "colab_type": "text"
      },
      "source": [
        "<a href=\"https://colab.research.google.com/github/BaluDream/1978asdream/blob/main/2022_December_17_fastai_YouTube_closed_captions_search.ipynb\" target=\"_parent\"><img src=\"https://colab.research.google.com/assets/colab-badge.svg\" alt=\"Open In Colab\"/></a>"
      ]
    },
    {
      "cell_type": "code",
      "execution_count": null,
      "metadata": {
        "id": "kFkNLLIC6g1f"
      },
      "outputs": [],
      "source": [
        "pip install pytube"
      ]
    },
    {
      "cell_type": "code",
      "source": [
        "pip install youtube_transcript_api"
      ],
      "metadata": {
        "id": "CJgLB7NT7zJZ"
      },
      "execution_count": null,
      "outputs": []
    },
    {
      "cell_type": "code",
      "source": [
        "from youtube_transcript_api import YouTubeTranscriptApi\n",
        "from pytube import YouTube, Playlist\n",
        "\n",
        "import sqlite3"
      ],
      "metadata": {
        "id": "nBoyFg4m72BV"
      },
      "execution_count": 3,
      "outputs": []
    },
    {
      "cell_type": "code",
      "source": [
        "base_pl = 'https://www.youtube.com/playlist?list='\n",
        "base_yt = 'https://youtu.be/'\n",
        "\n",
        "yt_pl_ids = [\n",
        "    'PLfYUBJiXbdtSgU6S_3l6pX-4hQYKNJZFU', # fast.ai APL Study Group #2022\n",
        "    'PLfYUBJiXbdtSvpQjSnJJ_PmDQB_VyT5iU', # Practical Deep Learning for Coders 2022\n",
        "    'PLfYUBJiXbdtSLBPJ1GMx-sQWf6iNhb8mM', # fast.ai live coding & tutorials #2022\n",
        "    'PLfYUBJiXbdtRL3FMB3GoWHRI8ieU6FhfM', # Practical Deep Learning for Coders (2020)\n",
        "    'PLfYUBJiXbdtTIdtE1U8qgyxo4Jy2Y91uj', # Deep Learning from the Foundations #2019\n",
        "    'PLfYUBJiXbdtSWRCYUHh-ThVCC39bp5yiq', # fastai v2 code walk-thrus #2019\n",
        "    'PLfYUBJiXbdtSIJb-Qd3pw0cqCbkGeS0xn', # Practical Deep Learning for Coders 2019\n",
        "    'PLfYUBJiXbdtSyktd8A_x0JNd6lxDcZE96', # Introduction to Machine Learning for Coders\n",
        "    'PLfYUBJiXbdtTttBGq-u2zeY1OTjs5e-Ia', # Cutting Edge Deep Learning for Coders 2 #2018\n",
        "    'PLfYUBJiXbdtS2UQRzyrxmyVHoGW0gmLSM', # Practical Deep Learning For Coders 2018\n",
        "]"
      ],
      "metadata": {
        "id": "wZJLzRoR72EM"
      },
      "execution_count": 4,
      "outputs": []
    },
    {
      "cell_type": "code",
      "source": [
        "playlist = Playlist('https://www.youtube.com/playlist?list=PLfYUBJiXbdtSvpQjSnJJ_PmDQB_VyT5iU')\n",
        "print(playlist.title)\n",
        "video = YouTube(playlist[0])\n",
        "print(video.title)\n",
        "print(playlist[0])\n",
        "video_id = playlist[0].split('=')[1]\n",
        "script = YouTubeTranscriptApi.get_transcript(video_id, languages=('en',))\n",
        "print(script[0])"
      ],
      "metadata": {
        "colab": {
          "base_uri": "https://localhost:8080/"
        },
        "id": "DoA4fTAq8AH2",
        "outputId": "7ba05435-bbfe-4574-ce06-b9780467b11d"
      },
      "execution_count": 6,
      "outputs": [
        {
          "output_type": "stream",
          "name": "stdout",
          "text": [
            "Practical Deep Learning for Coders 2022\n",
            "Lesson 1: Practical Deep Learning for Coders 2022\n",
            "https://www.youtube.com/watch?v=8SF_h3xF3cE\n",
            "{'text': 'Welcome to Practical Deep Learning for coders,\\xa0\\nlesson one. This is version five of this course,\\xa0\\xa0', 'start': 2.0, 'duration': 8.0}\n"
          ]
        }
      ]
    },
    {
      "cell_type": "code",
      "source": [
        "playlists = dict()\n",
        "videos = dict()\n",
        "database = dict()\n",
        "\n",
        "for pl_id in yt_pl_ids:\n",
        "    playlist = Playlist(base_pl + pl_id)\n",
        "    print(playlist.title)\n",
        "    playlists[pl_id] = playlist.title\n",
        "    database[pl_id] = dict()\n",
        "\n",
        "    for video in playlist:\n",
        "        video_id = video.split(\"=\")[1]\n",
        "        videos[video_id] = YouTube(video).title\n",
        "        database[pl_id][video_id] = dict()\n",
        "        # Manually created transcripts are returned first\n",
        "        script = YouTubeTranscriptApi.get_transcript(video_id, languages=('en',))\n",
        "\n",
        "        for txt in script:\n",
        "            database[pl_id][video_id][txt['start']] = txt['text']"
      ],
      "metadata": {
        "id": "909VHdUT8C-R"
      },
      "execution_count": null,
      "outputs": []
    },
    {
      "cell_type": "code",
      "source": [],
      "metadata": {
        "id": "57VDXvC78dlw"
      },
      "execution_count": 7,
      "outputs": []
    },
    {
      "cell_type": "markdown",
      "source": [
        "Building Database"
      ],
      "metadata": {
        "id": "fQUx_u0z8eOZ"
      }
    },
    {
      "cell_type": "code",
      "source": [],
      "metadata": {
        "id": "OwaCcOmb8dob"
      },
      "execution_count": 7,
      "outputs": []
    },
    {
      "cell_type": "code",
      "source": [
        "# https://stackoverflow.com/a/60932565/10013187\n",
        "records = [\n",
        "    (level1, level2, level3, leaf)\n",
        "    for level1, level2_dict in database.items()\n",
        "    for level2, level3_dict in level2_dict.items()\n",
        "    for level3, leaf in level3_dict.items()\n",
        "]\n",
        "print(\"(playlist_id, video_id, start, text)\")\n",
        "print(records[100])"
      ],
      "metadata": {
        "colab": {
          "base_uri": "https://localhost:8080/"
        },
        "id": "be1AhdF18Jdk",
        "outputId": "a5ad3ced-403a-4a6c-ebb9-85b6478864e1"
      },
      "execution_count": 8,
      "outputs": [
        {
          "output_type": "stream",
          "name": "stdout",
          "text": [
            "(playlist_id, video_id, start, text)\n",
            "('PLfYUBJiXbdtSgU6S_3l6pX-4hQYKNJZFU', 'CGpR2ILao5M', 294.18, 'gonna go watch them or anything all')\n"
          ]
        }
      ]
    },
    {
      "cell_type": "code",
      "source": [
        "db = sqlite3.connect('fastai_yt.db')\n",
        "cur = db.cursor()"
      ],
      "metadata": {
        "id": "tPiOnG9Y8Smx"
      },
      "execution_count": 9,
      "outputs": []
    },
    {
      "cell_type": "code",
      "source": [
        "# virtual table configured to allow full-text search\n",
        "cur.execute('DROP TABLE IF EXISTS transcriptions_fts;') \n",
        "cur.execute('CREATE VIRTUAL TABLE transcriptions_fts USING fts5(playlist_id, video_id, start, text, tokenize=\"porter unicode61\");')\n",
        "\n",
        "# dimension like tables\n",
        "cur.execute('DROP TABLE IF EXISTS playlist;')\n",
        "cur.execute('CREATE TABLE playlist (playlist_id, playlist_name);')\n",
        "cur.execute('DROP TABLE IF EXISTS video;')\n",
        "cur.execute('CREATE TABLE video (video_id, video_name);')"
      ],
      "metadata": {
        "colab": {
          "base_uri": "https://localhost:8080/"
        },
        "id": "H8XyrMsa8Spw",
        "outputId": "87f7ba09-240c-45fd-a60c-ab9c46df8faf"
      },
      "execution_count": 10,
      "outputs": [
        {
          "output_type": "execute_result",
          "data": {
            "text/plain": [
              "<sqlite3.Cursor at 0x7f081e297c70>"
            ]
          },
          "metadata": {},
          "execution_count": 10
        }
      ]
    },
    {
      "cell_type": "code",
      "source": [
        "# bulk index records\n",
        "cur.executemany('INSERT INTO transcriptions_fts (playlist_id, video_id, start, text) values (?,?,?,?);', records)\n",
        "cur.executemany('INSERT INTO playlist (playlist_id, playlist_name) values (?,?);', playlists.items())\n",
        "cur.executemany('INSERT INTO video (video_id, video_name) values (?,?);', videos.items())\n",
        "db.commit()\n"
      ],
      "metadata": {
        "id": "Y4Ieipjm8SsT"
      },
      "execution_count": 11,
      "outputs": []
    },
    {
      "cell_type": "code",
      "source": [
        "cur.execute('SELECT start, text FROM transcriptions_fts WHERE video_id=\"8SF_h3xF3cE\" LIMIT 5').fetchall()"
      ],
      "metadata": {
        "colab": {
          "base_uri": "https://localhost:8080/"
        },
        "id": "nFecsXt38pb1",
        "outputId": "00335153-3c1b-4f9e-880d-a82be7c89d6c"
      },
      "execution_count": 12,
      "outputs": [
        {
          "output_type": "execute_result",
          "data": {
            "text/plain": [
              "[(2.0,\n",
              "  'Welcome to Practical Deep Learning for coders,\\xa0\\nlesson one. This is version five of this course,\\xa0\\xa0'),\n",
              " (11.44,\n",
              "  \"and it's the first new one we've done\\xa0\\nin two years. So, we've got a lot of\\xa0\\xa0\"),\n",
              " (15.12,\n",
              "  \"cool things to cover! It's amazing how much has\\xa0\\nchanged. Here is an xkcd from the end of 2015.\\xa0\\xa0\"),\n",
              " (28.0,\n",
              "  'Who here has seen xkcd comics before?\\xa0\\n…Pretty much everybody. Not surprising.\\xa0\\xa0'),\n",
              " (35.36,\n",
              "  \"So the basic joke here is… I'll let you\\xa0\\nread it, and then I'll come back to it.\")]"
            ]
          },
          "metadata": {},
          "execution_count": 12
        }
      ]
    },
    {
      "cell_type": "code",
      "source": [
        "def print_search_results(res):\n",
        "    for each in res:\n",
        "        print()\n",
        "        print(playlists[each[0]], \"->\", videos[each[1]])\n",
        "        print(f'\"... {each[4]}...\"')\n",
        "        print('https://youtu.be/' + each[1] + \"?t=\" + str(int(each[2])))\n",
        "\n",
        "def get_query(q, limit):\n",
        "    search_in = 'text'\n",
        "    if 'text:' in q: search_in = 'transcriptions_fts'\n",
        "    query = f\"\"\"\n",
        "    SELECT *, HIGHLIGHT(transcriptions_fts, 3, '[', ']')\n",
        "    FROM transcriptions_fts WHERE {search_in} MATCH '{q}' ORDER BY rank\n",
        "    LIMIT \"{limit}\" \n",
        "    \"\"\"\n",
        "    print(query)\n",
        "    return query"
      ],
      "metadata": {
        "id": "2wf3XlJA8t4z"
      },
      "execution_count": 13,
      "outputs": []
    },
    {
      "cell_type": "code",
      "source": [
        "q = 'fastc*'\n",
        "res = cur.execute(get_query(q, limit=5)).fetchall()\n",
        "print_search_results(res)"
      ],
      "metadata": {
        "id": "dAlFM8qf8xwx"
      },
      "execution_count": null,
      "outputs": []
    },
    {
      "cell_type": "code",
      "source": [
        "q = 'deleg*'\n",
        "res = cur.execute(get_query(q, limit=5)).fetchall()\n",
        "print_search_results(res)"
      ],
      "metadata": {
        "id": "RgoVByQS81mN"
      },
      "execution_count": null,
      "outputs": []
    },
    {
      "cell_type": "code",
      "source": [
        "playlists"
      ],
      "metadata": {
        "id": "ASmD7eza85Gp"
      },
      "execution_count": null,
      "outputs": []
    },
    {
      "cell_type": "code",
      "source": [
        "pl_lst = list(playlists.keys())"
      ],
      "metadata": {
        "id": "chVFQC2h88QU"
      },
      "execution_count": 17,
      "outputs": []
    },
    {
      "cell_type": "code",
      "source": [
        "# Search in playlist 'Practical Deep Learning for Coders 2022' or\n",
        "# 'fast.ai live coding & tutorials'\n",
        "q = f\"\"\"\n",
        "(text: fastcore OR paral*) AND \n",
        "(playlist_id: \"{pl_lst[1]}\" OR \"{pl_lst[2]}\")\n",
        "\"\"\"\n",
        "res = cur.execute(get_query(q, limit=10)).fetchall()\n",
        "\n",
        "print_search_results(res)"
      ],
      "metadata": {
        "id": "wfS05zXx8_Ko"
      },
      "execution_count": null,
      "outputs": []
    },
    {
      "cell_type": "code",
      "source": [],
      "metadata": {
        "id": "PQmyMYDv9D00"
      },
      "execution_count": 18,
      "outputs": []
    },
    {
      "cell_type": "code",
      "source": [],
      "metadata": {
        "id": "DImATqDDD5ls"
      },
      "execution_count": 18,
      "outputs": []
    },
    {
      "cell_type": "markdown",
      "source": [
        "Building an App from the database generated."
      ],
      "metadata": {
        "id": "MMaYkTMdD6Ib"
      }
    },
    {
      "cell_type": "code",
      "source": [
        "!pip install streamlit"
      ],
      "metadata": {
        "id": "xepdzf99EC6k"
      },
      "execution_count": null,
      "outputs": []
    },
    {
      "cell_type": "code",
      "source": [
        "pip install --upgrade protobuf"
      ],
      "metadata": {
        "colab": {
          "base_uri": "https://localhost:8080/"
        },
        "id": "gWcLZz6hEer3",
        "outputId": "3f137a67-54b9-4d64-b24f-c382b0de448d"
      },
      "execution_count": 20,
      "outputs": [
        {
          "output_type": "stream",
          "name": "stdout",
          "text": [
            "Looking in indexes: https://pypi.org/simple, https://us-python.pkg.dev/colab-wheels/public/simple/\n",
            "Requirement already satisfied: protobuf in /usr/local/lib/python3.8/dist-packages (3.19.6)\n",
            "Collecting protobuf\n",
            "  Downloading protobuf-4.21.12-cp37-abi3-manylinux2014_x86_64.whl (409 kB)\n",
            "\u001b[K     |████████████████████████████████| 409 kB 4.2 MB/s \n",
            "\u001b[?25hInstalling collected packages: protobuf\n",
            "  Attempting uninstall: protobuf\n",
            "    Found existing installation: protobuf 3.19.6\n",
            "    Uninstalling protobuf-3.19.6:\n",
            "      Successfully uninstalled protobuf-3.19.6\n",
            "\u001b[31mERROR: pip's dependency resolver does not currently take into account all the packages that are installed. This behaviour is the source of the following dependency conflicts.\n",
            "tensorflow 2.9.2 requires protobuf<3.20,>=3.9.2, but you have protobuf 4.21.12 which is incompatible.\n",
            "tensorflow-metadata 1.12.0 requires protobuf<4,>=3.13, but you have protobuf 4.21.12 which is incompatible.\n",
            "tensorboard 2.9.1 requires protobuf<3.20,>=3.9.2, but you have protobuf 4.21.12 which is incompatible.\n",
            "streamlit 1.16.0 requires protobuf<4,>=3.12, but you have protobuf 4.21.12 which is incompatible.\u001b[0m\n",
            "Successfully installed protobuf-4.21.12\n"
          ]
        }
      ]
    },
    {
      "cell_type": "code",
      "source": [
        "#|export\n",
        "import streamlit as st\n",
        "import sqlite3"
      ],
      "metadata": {
        "id": "E1xJkqR8D5xH"
      },
      "execution_count": 21,
      "outputs": []
    },
    {
      "cell_type": "code",
      "source": [
        "#| export\n",
        "db_path = '/mnt/m/datamatica/posts/full-text-search-fastai-youtube-channel/'\n",
        "\n",
        "try:\n",
        "    db = sqlite3.connect(db_path + 'fastai_yt.db')\n",
        "except:\n",
        "    db = sqlite3.connect('fastai_yt.db')\n",
        "\n",
        "cur = db.cursor()"
      ],
      "metadata": {
        "id": "EoHOPVW0EBdw"
      },
      "execution_count": 22,
      "outputs": []
    },
    {
      "cell_type": "code",
      "source": [
        "#| export\n",
        "playlist = cur.execute('SELECT playlist_id, playlist_name FROM playlist').fetchall()\n",
        "video = cur.execute('SELECT video_id, video_name FROM video').fetchall()\n",
        "playlist = {p: n for p, n in playlist}\n",
        "video = {p: n for p, n in video}\n",
        "pl_sel = list(playlist.values())\n",
        "pl_to_id = {v:k for k,v in playlist.items()}"
      ],
      "metadata": {
        "id": "p6KtqqJQEm4J"
      },
      "execution_count": 23,
      "outputs": []
    },
    {
      "cell_type": "code",
      "source": [
        "#| export\n",
        "st.title('Full-Text Search fastai Youtube Playlists')\n",
        "\n",
        "# https://discuss.streamlit.io/t/select-all-on-a-streamlit-multiselect/9799/2\n",
        "\n",
        "all_options = st.checkbox(\"Select all Playlists\",\n",
        "    key='sel_all', value=True)\n",
        "\n",
        "container = st.container()\n",
        "if all_options:\n",
        "    sel_options = container.multiselect(\"Select one or more Playlist(s):\", \n",
        "                                        pl_sel, disabled=True)\n",
        "else:\n",
        "    sel_options = container.multiselect(\"Select one or more Playlist(s):\", \n",
        "                                        pl_sel, pl_sel)\n",
        "\n",
        "if all_options: options = list(playlist.values())\n",
        "else: options = sel_options\n",
        "\n",
        "st.write('Selected playlist(s):', options)"
      ],
      "metadata": {
        "id": "d8WcEJ2UEp7i"
      },
      "execution_count": null,
      "outputs": []
    },
    {
      "cell_type": "code",
      "source": [
        "#| export\n",
        "def get_query(q, limit):\n",
        "    \n",
        "    search_in = 'text'\n",
        "    \n",
        "    if not( len(options)==len(pl_sel) or len(options)==0 ):\n",
        "        search_in = 'transcriptions_fts'\n",
        "        q_pl = '(playlist_id: '\n",
        "        for pl in options:\n",
        "            end = ' OR ' if pl != options[-1] else ')'\n",
        "            q_pl = q_pl + f'\"{pl_to_id[pl]}\"' + end\n",
        "        \n",
        "        q = f\"(text: {q}) AND \" + q_pl\n",
        "\n",
        "    query = f\"\"\"\n",
        "    SELECT *, HIGHLIGHT(transcriptions_fts, 3, '[', ']')\n",
        "    FROM transcriptions_fts WHERE {search_in} MATCH '{q}' ORDER BY rank\n",
        "    LIMIT \"{limit}\" \n",
        "    \"\"\"\n",
        "    return query\n",
        "\n",
        "with st.form(\"Input\"):\n",
        "    queryText = st.text_area(\"Search query: \\ne.g. «fastc*», «fastcore OR paral*»\", height=1, max_chars=None)\n",
        "    limit_val = st.slider(\"Number of results:\", min_value=5, max_value=20)\n",
        "    btnResult = st.form_submit_button('Search')\n",
        "    \n",
        "if btnResult:\n",
        "    if not queryText:\n",
        "        st.text('Please enter a search query.')\n",
        "    else:\n",
        "        try:\n",
        "            st.text('Search query generated:')\n",
        "            # run query\n",
        "            st.write(get_query(queryText, limit_val).replace('*', '\\*'))\n",
        "            res = cur.execute(get_query(q=queryText, limit=limit_val)).fetchall()\n",
        "            st.text('Search results (click to go to YouTube):')\n",
        "\n",
        "            res_md = ('  \\n  '.join(['  \\n  '.join([\n",
        "                f\"{i}.- Playlist: `{playlist[each[0]]}`, Video: `{video[each[1]]}`\", \n",
        "                f\"Caption: '...[{each[4].replace('[','**').replace(']','**')}](https://youtu.be/{each[1]}?t={str(int(each[2]))})...'\", '\\n'])\n",
        "                for i, each in enumerate(res)\n",
        "            ]))\n",
        "\n",
        "            st.markdown(res_md)\n",
        "        except:\n",
        "            st.text('Invalid search query.')"
      ],
      "metadata": {
        "id": "Z-E5PqZKxdW1"
      },
      "execution_count": 29,
      "outputs": []
    },
    {
      "cell_type": "code",
      "source": [
        "!pip install nbdev"
      ],
      "metadata": {
        "id": "-R6Las-hyNwU"
      },
      "execution_count": null,
      "outputs": []
    },
    {
      "cell_type": "code",
      "source": [
        "#| hide\n",
        "from nbdev.export import nb_export\n",
        "nb_export('_Deploy_Search_Engine_Streamlit.ipynb', lib_path='/', name='app')"
      ],
      "metadata": {
        "id": "Is3ZMsy6xdaI"
      },
      "execution_count": 39,
      "outputs": []
    },
    {
      "cell_type": "code",
      "source": [
        "pwd"
      ],
      "metadata": {
        "colab": {
          "base_uri": "https://localhost:8080/",
          "height": 37
        },
        "id": "x5482wHRyMnA",
        "outputId": "0f391c10-593c-4487-bbf6-a2464843af3c"
      },
      "execution_count": 36,
      "outputs": [
        {
          "output_type": "execute_result",
          "data": {
            "text/plain": [
              "'/content'"
            ],
            "application/vnd.google.colaboratory.intrinsic+json": {
              "type": "string"
            }
          },
          "metadata": {},
          "execution_count": 36
        }
      ]
    },
    {
      "cell_type": "markdown",
      "source": [
        "For making a website"
      ],
      "metadata": {
        "id": "rL2wmtXlxd5r"
      }
    },
    {
      "cell_type": "code",
      "source": [
        "!pip install pyngrok"
      ],
      "metadata": {
        "id": "YnTY5gsFEs5Z"
      },
      "execution_count": null,
      "outputs": []
    },
    {
      "cell_type": "code",
      "source": [
        "ls"
      ],
      "metadata": {
        "colab": {
          "base_uri": "https://localhost:8080/"
        },
        "id": "eXduxonnxcqa",
        "outputId": "28210e18-ab1e-4e35-838d-eeefc22ef043"
      },
      "execution_count": 26,
      "outputs": [
        {
          "output_type": "stream",
          "name": "stdout",
          "text": [
            "fastai_yt.db  \u001b[0m\u001b[01;34msample_data\u001b[0m/\n"
          ]
        }
      ]
    },
    {
      "cell_type": "code",
      "source": [],
      "metadata": {
        "id": "SWGiUjMCxwwZ"
      },
      "execution_count": null,
      "outputs": []
    },
    {
      "cell_type": "code",
      "source": [],
      "metadata": {
        "id": "Fkuy7PQh6R5i"
      },
      "execution_count": null,
      "outputs": []
    },
    {
      "cell_type": "code",
      "source": [],
      "metadata": {
        "id": "qHhQgPKq6R9b"
      },
      "execution_count": null,
      "outputs": []
    },
    {
      "cell_type": "markdown",
      "source": [
        "References :\n",
        "\n",
        "1. https://blog.jcharistech.com/2020/08/16/how-to-run-streamlit-apps-from-googles-colab/\n",
        "\n",
        "2. https://fmussari.github.io/datamatica/posts/full-text-search-fastai-youtube-channel/Full-Text-Search-fastai-Youtube-Playlists-SQLite-FTS5-Part2.html"
      ],
      "metadata": {
        "id": "0QSouU6s7fKV"
      }
    },
    {
      "cell_type": "code",
      "source": [],
      "metadata": {
        "id": "c6wU2Hk97kcr"
      },
      "execution_count": null,
      "outputs": []
    }
  ]
}